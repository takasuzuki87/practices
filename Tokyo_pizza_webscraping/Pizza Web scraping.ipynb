{
 "cells": [
  {
   "cell_type": "code",
   "execution_count": 1,
   "metadata": {},
   "outputs": [],
   "source": [
    "from selenium import webdriver\n",
    "from selenium.webdriver.common.by import By\n",
    "from selenium.webdriver.support.ui import WebDriverWait\n",
    "from selenium.webdriver.support import expected_conditions as EC\n",
    "from selenium.webdriver.common.action_chains import ActionChains\n",
    "from selenium.common.exceptions import NoSuchElementException"
   ]
  },
  {
   "cell_type": "code",
   "execution_count": 164,
   "metadata": {},
   "outputs": [],
   "source": [
    "import time\n",
    "import pandas as pd\n",
    "import numpy as np"
   ]
  },
  {
   "cell_type": "code",
   "execution_count": 3,
   "metadata": {},
   "outputs": [],
   "source": [
    "import requests\n",
    "import bs4\n",
    "import urllib"
   ]
  },
  {
   "cell_type": "code",
   "execution_count": 58,
   "metadata": {},
   "outputs": [],
   "source": [
    "#quit()"
   ]
  },
  {
   "cell_type": "markdown",
   "metadata": {},
   "source": [
    "## 食べログから東京23区のピザレストランの情報取得を試みる\n",
    "\n",
    "まずは千代田区で個々に試し"
   ]
  },
  {
   "cell_type": "code",
   "execution_count": 132,
   "metadata": {
    "scrolled": true
   },
   "outputs": [],
   "source": [
    "# URL of the page showing pizza restaurants in Chiyoda\n",
    "url_pz = \"https://tabelog.com/tokyo/C13101/rstLst/pizza/1/\"\n",
    "\n",
    "# Download the page\n",
    "resp_pz = requests.get(url_pz)\n",
    "# Retreive headers\n",
    "#print(resp_pz.headers)"
   ]
  },
  {
   "cell_type": "code",
   "execution_count": 133,
   "metadata": {
    "scrolled": false
   },
   "outputs": [],
   "source": [
    "# HTMLの内容を取得するには\".text\"とする。\n",
    "html_pz = resp_pz.text\n",
    "soup_pz = bs4.BeautifulSoup(html_pz, \"lxml\")"
   ]
  },
  {
   "cell_type": "code",
   "execution_count": 134,
   "metadata": {},
   "outputs": [
    {
     "name": "stdout",
     "output_type": "stream",
     "text": [
      "['東京都千代田区丸の内1-9-1 大丸東京店 13F', '東京都千代田区内神田2-7-2 ラフィネ内神田 1F', '東京都千代田区神田鍛冶町3-3 カリガネビル 2Ｆ', '東京都千代田区丸の内1-9-1 東京駅\\u3000改札外 1F キッチンストリート', '東京都千代田区神田錦町3-14-3 神田錦町ビル 1F', '東京都千代田区有楽町2-7-1 有楽町イトシア B1F', '東京都千代田区三崎町2-19-4 MKビル\\u3000B1F', '東京都千代田区丸の内1-8-3 丸の内トラストタワー本館\\u3000２Ｆ', '東京都千代田区丸の内1-5-1 新丸の内ビルディング 5F', '東京都千代田区丸の内1-4-1 丸の内永楽ビルディング B1F', '東京都千代田区有楽町1-2-5 椿屋珈琲店ビルＢ１Ｆ', '東京都千代田区有楽町2-1-13 JR高架下', '東京都千代田区一ツ橋1-1-1 パレスサイドビル', '東京都千代田区富士見2-9-11', '東京都千代田区岩本町2-1-1 アパホテル神田駅東 1・2F', '東京都千代田区外神田4-14-1 秋葉原UDXビル 2F', '東京都千代田区外神田4-14-1 秋葉原UDXビル 1F', '東京都千代田区内幸町2-2-2 富国生命ビル B1F', '東京都千代田区大手町1-5-1 大手町ファーストスクエア B1F', '東京都千代田区二番町3-11 メディックスビル B1F']\n",
      "20\n"
     ]
    }
   ],
   "source": [
    "# Pickup address\n",
    "addresses = soup_pz.find_all('p', class_=\"list-rst__address cpy-address\")\n",
    "\n",
    "# Obtain all addresses on the first page\n",
    "list_1 = []\n",
    "for address in addresses:\n",
    "    a = address.text\n",
    "    list_1.append(a)\n",
    "print(list_1)\n",
    "print(len(list_1))"
   ]
  },
  {
   "cell_type": "code",
   "execution_count": 135,
   "metadata": {},
   "outputs": [
    {
     "name": "stdout",
     "output_type": "stream",
     "text": [
      "['XEX TOKYO / Salvatore Cuomo Bros.', 'Pizzeria D.F Azzurro', 'CHEESE FAICAL 神田店', 'ピッツェリア ダ チーボ 東京駅店', 'デニーロ 神田店', 'イタリアンダイニングDoNa 有楽町イトシア店', 'Di PUNTO 水道橋店', 'オペレッタ ピザ アンド シーフード 丸の内トラストタワー店', 'デリツィオーゾ フィレンツェ', 'ボッソ', 'イタリアンダイニングDona 日比谷店', 'トラットリア チャオ', 'ニユートーキヨー ビヤレストラン パレスサイドビル店', 'Italian Barcafe KIMURAYA 飯田橋', 'PIZZAバル 88 神田店', 'トラットリア・アリオリ 秋葉原UDX店', 'キオッチョラ・ピッツェリア', 'ラ・ベルデ 日比谷店', 'ラ・ベルデ 大手町店', 'フィオーレ']\n",
      "20\n"
     ]
    }
   ],
   "source": [
    "# Pickup restaurant name\n",
    "name = soup_pz.find_all('a', class_=\"list-rst__rst-name-target cpy-rst-name\")\n",
    "\n",
    "# Obtain all names on the first page\n",
    "name_list = []\n",
    "for nm in name:\n",
    "    n = nm.text\n",
    "    name_list.append(n)\n",
    "print(name_list)\n",
    "print(len(name_list))"
   ]
  },
  {
   "cell_type": "code",
   "execution_count": 43,
   "metadata": {},
   "outputs": [
    {
     "name": "stdout",
     "output_type": "stream",
     "text": [
      "['3.17', '3.26', '3.01', '3.18', '3.01', '3.06', '3.23', '3.00', '3.53', '3.06', '3.41', '3.06', '3.42', '3.19', '3.00', '3.54', '3.27', '3.01', '3.12', '3.51']\n",
      "20\n"
     ]
    }
   ],
   "source": [
    "# Pickup score\n",
    "score = soup_pz.find_all('span', class_=\"c-rating__val c-rating__val--strong list-rst__rating-val\")\n",
    "\n",
    "# Obtain all scores on the first page\n",
    "score_list = []\n",
    "for sc in score:\n",
    "    s = sc.text\n",
    "    score_list.append(s)\n",
    "print(score_list)\n",
    "print(len(score_list))"
   ]
  },
  {
   "cell_type": "code",
   "execution_count": 44,
   "metadata": {},
   "outputs": [
    {
     "name": "stdout",
     "output_type": "stream",
     "text": [
      "['76', '44', '24', '25', '63', '20', '107', '8', '87', '9', '55', '12', '73', '33', '7', '207', '13', '14', '12', '108']\n",
      "20\n"
     ]
    }
   ],
   "source": [
    "# Pickup reviews\n",
    "reviews = soup_pz.find_all('em', class_=\"list-rst__rvw-count-num cpy-review-count\")\n",
    "\n",
    "# Obtain all scores on the first page\n",
    "rev_list = []\n",
    "for re in reviews:\n",
    "    r = re.text\n",
    "    rev_list.append(r)\n",
    "print(rev_list)\n",
    "print(len(rev_list))"
   ]
  },
  {
   "cell_type": "code",
   "execution_count": 47,
   "metadata": {},
   "outputs": [
    {
     "name": "stdout",
     "output_type": "stream",
     "text": [
      "['￥4,000～￥4,999', '￥3,000～￥3,999', '￥3,000～￥3,999', '￥3,000～￥3,999', '￥3,000～￥3,999', '￥2,000～￥2,999', '￥3,000～￥3,999', '￥3,000～￥3,999', '￥6,000～￥7,999', '￥2,000～￥2,999', '￥5,000～￥5,999', '￥3,000～￥3,999', '￥2,000～￥2,999', '￥3,000～￥3,999', '￥2,000～￥2,999', '￥4,000～￥4,999', '￥3,000～￥3,999', '￥2,000～￥2,999', '￥3,000～￥3,999', '￥3,000～￥3,999']\n",
      "20\n"
     ]
    }
   ],
   "source": [
    "# Pickup dinner budget\n",
    "budget = soup_pz.find_all('span', class_=\"c-rating__val list-rst__budget-val cpy-dinner-budget-val\")\n",
    "\n",
    "# Obtain all scores on the first page\n",
    "budget_list = []\n",
    "for bud in budget:\n",
    "    b = bud.text\n",
    "    budget_list.append(b)\n",
    "print(budget_list)\n",
    "print(len(budget_list))"
   ]
  },
  {
   "cell_type": "markdown",
   "metadata": {},
   "source": [
    "Get information from each restaurant"
   ]
  },
  {
   "cell_type": "code",
   "execution_count": 99,
   "metadata": {
    "scrolled": true
   },
   "outputs": [],
   "source": [
    "ultag = soup_pz.find_all('ul', class_= \"js-rstlist-info rstlist-info\")\n",
    "#print(ultag[0])"
   ]
  },
  {
   "cell_type": "code",
   "execution_count": 100,
   "metadata": {},
   "outputs": [],
   "source": [
    "# https://stackoverflow.com/questions/17246963/how-to-find-all-lis-within-a-specific-ul-class\n",
    "rest_li1 = ultag[0].find_all('li', class_=\"list-rst js-bookmark js-rst-cassette-wrap js-is-need-redirect\")\n",
    "rest_li2 = ultag[0].find_all('li', class_=\"list-rst js-bookmark js-rst-cassette-wrap\")\n",
    "rest_li = rest_li1 + rest_li2\n",
    "#print(rest_li)"
   ]
  },
  {
   "cell_type": "code",
   "execution_count": 101,
   "metadata": {
    "scrolled": true
   },
   "outputs": [],
   "source": [
    "#get information of each restaurant\n",
    "\n",
    "df = []\n",
    "for li in rest_li:\n",
    "    address = li.find('p', class_=\"list-rst__address cpy-address\").text\n",
    "    name = li.find('a', class_=\"list-rst__rst-name-target cpy-rst-name\").text\n",
    "    s = li.find('span', class_=\"c-rating__val c-rating__val--strong list-rst__rating-val\")\n",
    "    if s is not None:\n",
    "        score = s.text\n",
    "    else:\n",
    "        score = \"-\"\n",
    "    review = li.find('em', class_=\"list-rst__rvw-count-num cpy-review-count\").text\n",
    "    budget = li.find('span', class_=\"c-rating__val list-rst__budget-val cpy-dinner-budget-val\").text\n",
    "    \n",
    "    restinfo = [name, address,score,review, budget]\n",
    "    #df_rest0 = pd.DataFrame(restinfo).T\n",
    "    #df_rest = df_rest.append(df_rest0)\n",
    "    df.append(restinfo)\n",
    "#print(df)"
   ]
  },
  {
   "cell_type": "code",
   "execution_count": 102,
   "metadata": {
    "collapsed": true
   },
   "outputs": [
    {
     "data": {
      "text/html": [
       "<div>\n",
       "<style scoped>\n",
       "    .dataframe tbody tr th:only-of-type {\n",
       "        vertical-align: middle;\n",
       "    }\n",
       "\n",
       "    .dataframe tbody tr th {\n",
       "        vertical-align: top;\n",
       "    }\n",
       "\n",
       "    .dataframe thead th {\n",
       "        text-align: right;\n",
       "    }\n",
       "</style>\n",
       "<table border=\"1\" class=\"dataframe\">\n",
       "  <thead>\n",
       "    <tr style=\"text-align: right;\">\n",
       "      <th></th>\n",
       "      <th>0</th>\n",
       "      <th>1</th>\n",
       "      <th>2</th>\n",
       "      <th>3</th>\n",
       "      <th>4</th>\n",
       "    </tr>\n",
       "  </thead>\n",
       "  <tbody>\n",
       "    <tr>\n",
       "      <th>0</th>\n",
       "      <td>ラ・マレンマ 大手町</td>\n",
       "      <td>東京都千代田区大手町1-5-1 大手町ファーストスクエア 1F</td>\n",
       "      <td>3.17</td>\n",
       "      <td>76</td>\n",
       "      <td>￥4,000～￥4,999</td>\n",
       "    </tr>\n",
       "    <tr>\n",
       "      <th>1</th>\n",
       "      <td>バルバラ ルミュウ</td>\n",
       "      <td>東京都千代田区有楽町2-5-1 ルミネ有楽町店 ルミネ1 8F</td>\n",
       "      <td>3.26</td>\n",
       "      <td>44</td>\n",
       "      <td>￥3,000～￥3,999</td>\n",
       "    </tr>\n",
       "    <tr>\n",
       "      <th>2</th>\n",
       "      <td>ピッツェリアバール ドォーロ 神田店</td>\n",
       "      <td>東京都千代田区鍛冶町1-3-1 VORT神田 1F</td>\n",
       "      <td>3.01</td>\n",
       "      <td>24</td>\n",
       "      <td>￥3,000～￥3,999</td>\n",
       "    </tr>\n",
       "    <tr>\n",
       "      <th>3</th>\n",
       "      <td>ピッツェリア ジオ ピッポ</td>\n",
       "      <td>東京都千代田区一ツ橋2-6-12 東西堂ビル 1F</td>\n",
       "      <td>3.18</td>\n",
       "      <td>25</td>\n",
       "      <td>￥3,000～￥3,999</td>\n",
       "    </tr>\n",
       "    <tr>\n",
       "      <th>4</th>\n",
       "      <td>ラ・ベルデ 有楽町店</td>\n",
       "      <td>東京都千代田区有楽町1-10-1 有楽町ビル B1F</td>\n",
       "      <td>3.01</td>\n",
       "      <td>63</td>\n",
       "      <td>￥3,000～￥3,999</td>\n",
       "    </tr>\n",
       "    <tr>\n",
       "      <th>5</th>\n",
       "      <td>イル・ヴィゴーレ 神田神保町店</td>\n",
       "      <td>東京都千代田区神田神保町1-4 クロサワビル 1F</td>\n",
       "      <td>3.06</td>\n",
       "      <td>20</td>\n",
       "      <td>￥2,000～￥2,999</td>\n",
       "    </tr>\n",
       "    <tr>\n",
       "      <th>6</th>\n",
       "      <td>PIZZA SALVATORE CUOMO 永田町</td>\n",
       "      <td>東京都千代田区永田町2-13-10 プルデンシャルプラザ　１Ｆ</td>\n",
       "      <td>3.23</td>\n",
       "      <td>107</td>\n",
       "      <td>￥3,000～￥3,999</td>\n",
       "    </tr>\n",
       "    <tr>\n",
       "      <th>7</th>\n",
       "      <td>BETTOLA SANBAL</td>\n",
       "      <td>東京都千代田区神田神保町1-105 神保町三井ビル 1F</td>\n",
       "      <td>3.00</td>\n",
       "      <td>8</td>\n",
       "      <td>￥3,000～￥3,999</td>\n",
       "    </tr>\n",
       "    <tr>\n",
       "      <th>8</th>\n",
       "      <td>エノテカ・ドォーロ</td>\n",
       "      <td>東京都千代田区平河町1-9-3 名倉ビル　１Ｆ</td>\n",
       "      <td>3.53</td>\n",
       "      <td>87</td>\n",
       "      <td>￥6,000～￥7,999</td>\n",
       "    </tr>\n",
       "    <tr>\n",
       "      <th>9</th>\n",
       "      <td>バリッシモ 大手町店</td>\n",
       "      <td>東京都千代田区丸の内1-3-2 三井住友銀行ビル東館　B1F</td>\n",
       "      <td>3.06</td>\n",
       "      <td>9</td>\n",
       "      <td>￥2,000～￥2,999</td>\n",
       "    </tr>\n",
       "    <tr>\n",
       "      <th>10</th>\n",
       "      <td>ピッツェリア・ドォーロ 麹町店</td>\n",
       "      <td>東京都千代田区麹町4-3-10 小倉ビル　１Ｆ</td>\n",
       "      <td>3.41</td>\n",
       "      <td>55</td>\n",
       "      <td>￥5,000～￥5,999</td>\n",
       "    </tr>\n",
       "    <tr>\n",
       "      <th>11</th>\n",
       "      <td>GOOD CHEESE GOOD PIZZA</td>\n",
       "      <td>東京都千代田区有楽町1-1-2 東京ミッドタウン日比谷 2F</td>\n",
       "      <td>3.06</td>\n",
       "      <td>12</td>\n",
       "      <td>￥3,000～￥3,999</td>\n",
       "    </tr>\n",
       "    <tr>\n",
       "      <th>12</th>\n",
       "      <td>ぴえもん</td>\n",
       "      <td>東京都千代田区九段北1-4-4 伊東ビル　２Ｆ</td>\n",
       "      <td>3.42</td>\n",
       "      <td>73</td>\n",
       "      <td>￥2,000～￥2,999</td>\n",
       "    </tr>\n",
       "    <tr>\n",
       "      <th>13</th>\n",
       "      <td>PIZZA BAR 裏秋葉原</td>\n",
       "      <td>東京都千代田区神田佐久間町2-24 千代田ブリスビル 1F</td>\n",
       "      <td>3.19</td>\n",
       "      <td>33</td>\n",
       "      <td>￥3,000～￥3,999</td>\n",
       "    </tr>\n",
       "    <tr>\n",
       "      <th>14</th>\n",
       "      <td>だん家 東京海上日動本館店</td>\n",
       "      <td>東京都千代田区丸の内1-2-1 東京海上日動ビル 本館B1F</td>\n",
       "      <td>3.00</td>\n",
       "      <td>7</td>\n",
       "      <td>￥2,000～￥2,999</td>\n",
       "    </tr>\n",
       "    <tr>\n",
       "      <th>15</th>\n",
       "      <td>A16 TOKYO</td>\n",
       "      <td>東京都千代田区丸の内2-6-1 丸の内ブリックスクエア 1F</td>\n",
       "      <td>3.54</td>\n",
       "      <td>207</td>\n",
       "      <td>￥4,000～￥4,999</td>\n",
       "    </tr>\n",
       "    <tr>\n",
       "      <th>16</th>\n",
       "      <td>ビストロ ピン</td>\n",
       "      <td>東京都千代田区神田駿河台2-10-8</td>\n",
       "      <td>3.27</td>\n",
       "      <td>13</td>\n",
       "      <td>￥3,000～￥3,999</td>\n",
       "    </tr>\n",
       "    <tr>\n",
       "      <th>17</th>\n",
       "      <td>Nonnki PASTAYA</td>\n",
       "      <td>東京都千代田区神田和泉町1-9-3</td>\n",
       "      <td>3.01</td>\n",
       "      <td>14</td>\n",
       "      <td>￥2,000～￥2,999</td>\n",
       "    </tr>\n",
       "    <tr>\n",
       "      <th>18</th>\n",
       "      <td>秋葉原アンチョビ</td>\n",
       "      <td>東京都千代田区神田佐久間町3-26</td>\n",
       "      <td>3.12</td>\n",
       "      <td>12</td>\n",
       "      <td>￥3,000～￥3,999</td>\n",
       "    </tr>\n",
       "    <tr>\n",
       "      <th>19</th>\n",
       "      <td>コルティブォーノ 東京</td>\n",
       "      <td>東京都千代田区有楽町2-7-1 有楽町イトシア 4F</td>\n",
       "      <td>3.51</td>\n",
       "      <td>108</td>\n",
       "      <td>￥3,000～￥3,999</td>\n",
       "    </tr>\n",
       "  </tbody>\n",
       "</table>\n",
       "</div>"
      ],
      "text/plain": [
       "                            0                                1     2    3  \\\n",
       "0                  ラ・マレンマ 大手町  東京都千代田区大手町1-5-1 大手町ファーストスクエア 1F  3.17   76   \n",
       "1                   バルバラ ルミュウ  東京都千代田区有楽町2-5-1 ルミネ有楽町店 ルミネ1 8F  3.26   44   \n",
       "2          ピッツェリアバール ドォーロ 神田店        東京都千代田区鍛冶町1-3-1 VORT神田 1F  3.01   24   \n",
       "3               ピッツェリア ジオ ピッポ        東京都千代田区一ツ橋2-6-12 東西堂ビル 1F  3.18   25   \n",
       "4                  ラ・ベルデ 有楽町店       東京都千代田区有楽町1-10-1 有楽町ビル B1F  3.01   63   \n",
       "5             イル・ヴィゴーレ 神田神保町店        東京都千代田区神田神保町1-4 クロサワビル 1F  3.06   20   \n",
       "6   PIZZA SALVATORE CUOMO 永田町  東京都千代田区永田町2-13-10 プルデンシャルプラザ　１Ｆ  3.23  107   \n",
       "7              BETTOLA SANBAL     東京都千代田区神田神保町1-105 神保町三井ビル 1F  3.00    8   \n",
       "8                   エノテカ・ドォーロ          東京都千代田区平河町1-9-3 名倉ビル　１Ｆ  3.53   87   \n",
       "9                  バリッシモ 大手町店   東京都千代田区丸の内1-3-2 三井住友銀行ビル東館　B1F  3.06    9   \n",
       "10            ピッツェリア・ドォーロ 麹町店          東京都千代田区麹町4-3-10 小倉ビル　１Ｆ  3.41   55   \n",
       "11     GOOD CHEESE GOOD PIZZA   東京都千代田区有楽町1-1-2 東京ミッドタウン日比谷 2F  3.06   12   \n",
       "12                       ぴえもん          東京都千代田区九段北1-4-4 伊東ビル　２Ｆ  3.42   73   \n",
       "13             PIZZA BAR 裏秋葉原    東京都千代田区神田佐久間町2-24 千代田ブリスビル 1F  3.19   33   \n",
       "14              だん家 東京海上日動本館店   東京都千代田区丸の内1-2-1 東京海上日動ビル 本館B1F  3.00    7   \n",
       "15                  A16 TOKYO   東京都千代田区丸の内2-6-1 丸の内ブリックスクエア 1F  3.54  207   \n",
       "16                    ビストロ ピン               東京都千代田区神田駿河台2-10-8  3.27   13   \n",
       "17             Nonnki PASTAYA                東京都千代田区神田和泉町1-9-3  3.01   14   \n",
       "18                   秋葉原アンチョビ                東京都千代田区神田佐久間町3-26  3.12   12   \n",
       "19                コルティブォーノ 東京       東京都千代田区有楽町2-7-1 有楽町イトシア 4F  3.51  108   \n",
       "\n",
       "                4  \n",
       "0   ￥4,000～￥4,999  \n",
       "1   ￥3,000～￥3,999  \n",
       "2   ￥3,000～￥3,999  \n",
       "3   ￥3,000～￥3,999  \n",
       "4   ￥3,000～￥3,999  \n",
       "5   ￥2,000～￥2,999  \n",
       "6   ￥3,000～￥3,999  \n",
       "7   ￥3,000～￥3,999  \n",
       "8   ￥6,000～￥7,999  \n",
       "9   ￥2,000～￥2,999  \n",
       "10  ￥5,000～￥5,999  \n",
       "11  ￥3,000～￥3,999  \n",
       "12  ￥2,000～￥2,999  \n",
       "13  ￥3,000～￥3,999  \n",
       "14  ￥2,000～￥2,999  \n",
       "15  ￥4,000～￥4,999  \n",
       "16  ￥3,000～￥3,999  \n",
       "17  ￥2,000～￥2,999  \n",
       "18  ￥3,000～￥3,999  \n",
       "19  ￥3,000～￥3,999  "
      ]
     },
     "execution_count": 102,
     "metadata": {},
     "output_type": "execute_result"
    }
   ],
   "source": [
    "df1 = pd.DataFrame(data=df)\n",
    "#df1"
   ]
  },
  {
   "cell_type": "markdown",
   "metadata": {},
   "source": [
    "## Try the script on multiple pages"
   ]
  },
  {
   "cell_type": "code",
   "execution_count": 314,
   "metadata": {},
   "outputs": [],
   "source": [
    "# Change the last two digits of the area portion (C131**) in the base_url_pz below\n",
    "base_url_pz = \"https://tabelog.com/tokyo/C13123/rstLst/pizza/\"\n",
    "\n",
    "def scrape_address_pz(url_pz):\n",
    "    resp_pz = requests.get(url_pz)\n",
    "    html_pz = resp_pz.text\n",
    "    soup_pz = bs4.BeautifulSoup(html_pz, \"lxml\")\n",
    "    ultag = soup_pz.find_all('ul', class_= \"js-rstlist-info rstlist-info\")\n",
    "    rest_li1 = ultag[0].find_all('li', class_=\"list-rst js-bookmark js-rst-cassette-wrap js-is-need-redirect\")\n",
    "    rest_li2 = ultag[0].find_all('li', class_=\"list-rst js-bookmark js-rst-cassette-wrap\")\n",
    "    rest_li = rest_li1 + rest_li2\n",
    "    \n",
    "    df_pz0 = []\n",
    "    for li in rest_li:\n",
    "        address = li.find('p', class_=\"list-rst__address cpy-address\").text\n",
    "        name = li.find('a', class_=\"list-rst__rst-name-target cpy-rst-name\").text\n",
    "        s = li.find('span', class_=\"c-rating__val c-rating__val--strong list-rst__rating-val\")\n",
    "        if s is not None:\n",
    "            score = s.text\n",
    "        else:\n",
    "            score = \"-\"\n",
    "        review = li.find('em', class_=\"list-rst__rvw-count-num cpy-review-count\").text\n",
    "        budget = li.find('span', class_=\"c-rating__val list-rst__budget-val cpy-dinner-budget-val\").text\n",
    "    \n",
    "        restinfo = [name,address,score,review,budget]\n",
    "        df_pz0.append(restinfo)\n",
    "        \n",
    "    return(df_pz0)\n",
    "\n",
    "def scrape_main_pz(page_pz):\n",
    "    url_pz = base_url_pz+ \"%d/\" %page_pz\n",
    "    df_pz1 = scrape_address_pz(url_pz)\n",
    "    #time.sleep(3)\n",
    "    return(df_pz1)"
   ]
  },
  {
   "cell_type": "code",
   "execution_count": 315,
   "metadata": {},
   "outputs": [],
   "source": [
    "soup_pz_1 = bs4.BeautifulSoup(requests.get(base_url_pz).text, \"lxml\")\n",
    "#print(int(soup_pz_1.find_all('span', class_=\"list-condition__count\")[0].text)//20 + 1)"
   ]
  },
  {
   "cell_type": "code",
   "execution_count": 316,
   "metadata": {},
   "outputs": [
    {
     "name": "stdout",
     "output_type": "stream",
     "text": [
      "ページ 1 をスクレイプしました\n",
      "ページ 2 をスクレイプしました\n"
     ]
    }
   ],
   "source": [
    "df_pz2 = []\n",
    "max_attempts = 10\n",
    "total_pages = int(soup_pz_1.find_all('span', class_=\"list-condition__count\")[0].text)//20 + 1\n",
    "page_numbers = range(1,int(total_pages)+1)\n",
    "\n",
    "for page_pz in page_numbers:\n",
    "    for attempt in range(max_attempts):\n",
    "        try:\n",
    "            df_pz1 = scrape_main_pz(page_pz)\n",
    "            df_pz2.extend(df_pz1)\n",
    "            print(\"ページ\",page_pz,\"をスクレイプしました\")\n",
    "        except requests.exceptions.Timeout:\n",
    "            print(\"接続タイムアウト。2分後に再試行します...\")\n",
    "            time.sleep(120)\n",
    "            continue # 最も内側の forに戻る\n",
    "        except requests.exceptions.RequestException as e:\n",
    "            print(\"%s. 5分後に再試行します...\" % e.message)\n",
    "            time.sleep(300)\n",
    "            continue # 最も内側の forに戻る\n",
    "        #　エラー無しの場合attempループを脱出して、次のページのループに戻る\n",
    "        break"
   ]
  },
  {
   "cell_type": "code",
   "execution_count": 317,
   "metadata": {
    "scrolled": true
   },
   "outputs": [
    {
     "name": "stdout",
     "output_type": "stream",
     "text": [
      "37\n"
     ]
    }
   ],
   "source": [
    "df_pz = pd.DataFrame(data = df_pz2)\n",
    "print(len(df_pz))\n",
    "#df_pz"
   ]
  },
  {
   "cell_type": "markdown",
   "metadata": {},
   "source": [
    "Name columns, reformat address"
   ]
  },
  {
   "cell_type": "code",
   "execution_count": 318,
   "metadata": {},
   "outputs": [
    {
     "data": {
      "text/html": [
       "<div>\n",
       "<style scoped>\n",
       "    .dataframe tbody tr th:only-of-type {\n",
       "        vertical-align: middle;\n",
       "    }\n",
       "\n",
       "    .dataframe tbody tr th {\n",
       "        vertical-align: top;\n",
       "    }\n",
       "\n",
       "    .dataframe thead th {\n",
       "        text-align: right;\n",
       "    }\n",
       "</style>\n",
       "<table border=\"1\" class=\"dataframe\">\n",
       "  <thead>\n",
       "    <tr style=\"text-align: right;\">\n",
       "      <th></th>\n",
       "      <th>Name</th>\n",
       "      <th>Address</th>\n",
       "      <th>Score</th>\n",
       "      <th>Reviews</th>\n",
       "      <th>Budget</th>\n",
       "    </tr>\n",
       "  </thead>\n",
       "  <tbody>\n",
       "    <tr>\n",
       "      <th>0</th>\n",
       "      <td>居食房しぶいち</td>\n",
       "      <td>東京都江戸川区瑞江4-41-7</td>\n",
       "      <td>3.00</td>\n",
       "      <td>2</td>\n",
       "      <td>￥3,000～￥3,999</td>\n",
       "    </tr>\n",
       "    <tr>\n",
       "      <th>1</th>\n",
       "      <td>洋風酒場 アネモネ</td>\n",
       "      <td>東京都江戸川区東葛西5-4-11</td>\n",
       "      <td>3.07</td>\n",
       "      <td>11</td>\n",
       "      <td>￥3,000～￥3,999</td>\n",
       "    </tr>\n",
       "  </tbody>\n",
       "</table>\n",
       "</div>"
      ],
      "text/plain": [
       "        Name           Address Score Reviews         Budget\n",
       "0    居食房しぶいち   東京都江戸川区瑞江4-41-7  3.00       2  ￥3,000～￥3,999\n",
       "1  洋風酒場 アネモネ  東京都江戸川区東葛西5-4-11  3.07      11  ￥3,000～￥3,999"
      ]
     },
     "execution_count": 318,
     "metadata": {},
     "output_type": "execute_result"
    }
   ],
   "source": [
    "# Reformat df_pz and export as .csv\n",
    "\n",
    "df_pz.columns = ['Name', 'Address', 'Score', 'Reviews', 'Budget']\n",
    "#df_pz.head(2)\n",
    "\n",
    "Address = df_pz['Address']\n",
    "\n",
    "address_list = []\n",
    "for row in Address:\n",
    "    space = row.find(' ')\n",
    "    if space < 0:\n",
    "        main_address = row\n",
    "    else:\n",
    "        main_address = row[:space]\n",
    "    address_list.append(main_address)\n",
    "#print(address_list)\n",
    "\n",
    "df_pz['Address'] = address_list\n",
    "\n",
    "df_pz.head(2)"
   ]
  },
  {
   "cell_type": "code",
   "execution_count": 319,
   "metadata": {},
   "outputs": [],
   "source": [
    "df_pz.to_csv(\"Edogawa_pz.csv\", index=False, encoding=\"utf-8\")"
   ]
  },
  {
   "cell_type": "markdown",
   "metadata": {},
   "source": [
    "Cancatinate all csv files"
   ]
  },
  {
   "cell_type": "code",
   "execution_count": 334,
   "metadata": {},
   "outputs": [],
   "source": [
    "import os\n",
    "filenames = [f for f in os.listdir() if f.endswith('_pz.csv')]"
   ]
  },
  {
   "cell_type": "code",
   "execution_count": 335,
   "metadata": {
    "scrolled": true
   },
   "outputs": [
    {
     "name": "stdout",
     "output_type": "stream",
     "text": [
      "['Adachi_pz.csv', 'Arakawa_pz.csv', 'Bunkyo_pz.csv', 'Chiyoda_pz.csv', 'Chuo_pz.csv', 'Edogawa_pz.csv', 'Itabashi_pz.csv', 'Katsushika_pz.csv', 'Kita_pz.csv', 'Koto_pz.csv', 'Meguro_pz.csv', 'Minato_pz.csv', 'Nakano_pz.csv', 'Nerima_pz.csv', 'Ota_pz.csv', 'Setagaya_pz.csv', 'Shibuya_pz.csv', 'Shinagawa_pz.csv', 'Shinjuku_pz.csv', 'Suginami_pz.csv', 'Sumida_pz.csv', 'Taito_pz.csv', 'Toshima_pz.csv']\n"
     ]
    }
   ],
   "source": [
    "print(filenames)"
   ]
  },
  {
   "cell_type": "code",
   "execution_count": 336,
   "metadata": {},
   "outputs": [],
   "source": [
    "pieces = []\n",
    "for filename in filenames:\n",
    "    frame = pd.read_csv(filename)\n",
    "    pieces.append(frame)"
   ]
  },
  {
   "cell_type": "code",
   "execution_count": 338,
   "metadata": {},
   "outputs": [],
   "source": [
    "dfpz = pd.concat(pieces, ignore_index=True)"
   ]
  },
  {
   "cell_type": "code",
   "execution_count": 340,
   "metadata": {
    "scrolled": true
   },
   "outputs": [
    {
     "data": {
      "text/html": [
       "<div>\n",
       "<style scoped>\n",
       "    .dataframe tbody tr th:only-of-type {\n",
       "        vertical-align: middle;\n",
       "    }\n",
       "\n",
       "    .dataframe tbody tr th {\n",
       "        vertical-align: top;\n",
       "    }\n",
       "\n",
       "    .dataframe thead th {\n",
       "        text-align: right;\n",
       "    }\n",
       "</style>\n",
       "<table border=\"1\" class=\"dataframe\">\n",
       "  <thead>\n",
       "    <tr style=\"text-align: right;\">\n",
       "      <th></th>\n",
       "      <th>Name</th>\n",
       "      <th>Address</th>\n",
       "      <th>Score</th>\n",
       "      <th>Reviews</th>\n",
       "      <th>Budget</th>\n",
       "    </tr>\n",
       "  </thead>\n",
       "  <tbody>\n",
       "    <tr>\n",
       "      <th>0</th>\n",
       "      <td>アダッキオ</td>\n",
       "      <td>東京都足立区千住東1-29-12</td>\n",
       "      <td>3.54</td>\n",
       "      <td>47</td>\n",
       "      <td>￥2,000～￥2,999</td>\n",
       "    </tr>\n",
       "    <tr>\n",
       "      <th>1</th>\n",
       "      <td>SALVATORE CUOMO &amp; BAR 西新井</td>\n",
       "      <td>東京都足立区西新井栄町1-17-1</td>\n",
       "      <td>3.07</td>\n",
       "      <td>41</td>\n",
       "      <td>￥2,000～￥2,999</td>\n",
       "    </tr>\n",
       "    <tr>\n",
       "      <th>2</th>\n",
       "      <td>ベッラベーラ 北千住店</td>\n",
       "      <td>東京都足立区千住2-62</td>\n",
       "      <td>3.05</td>\n",
       "      <td>56</td>\n",
       "      <td>￥3,000～￥3,999</td>\n",
       "    </tr>\n",
       "    <tr>\n",
       "      <th>3</th>\n",
       "      <td>ピッツェリア アッローロ</td>\n",
       "      <td>東京都足立区千住旭町3-13</td>\n",
       "      <td>3.53</td>\n",
       "      <td>40</td>\n",
       "      <td>￥2,000～￥2,999</td>\n",
       "    </tr>\n",
       "    <tr>\n",
       "      <th>4</th>\n",
       "      <td>ワインバル  80 梅島店</td>\n",
       "      <td>東京都足立区梅島1-12-6</td>\n",
       "      <td>-</td>\n",
       "      <td>1</td>\n",
       "      <td>￥4,000～￥4,999</td>\n",
       "    </tr>\n",
       "  </tbody>\n",
       "</table>\n",
       "</div>"
      ],
      "text/plain": [
       "                        Name            Address Score Reviews         Budget\n",
       "0                      アダッキオ   東京都足立区千住東1-29-12  3.54      47  ￥2,000～￥2,999\n",
       "1  SALVATORE CUOMO & BAR 西新井  東京都足立区西新井栄町1-17-1  3.07      41  ￥2,000～￥2,999\n",
       "2                ベッラベーラ 北千住店       東京都足立区千住2-62  3.05      56  ￥3,000～￥3,999\n",
       "3               ピッツェリア アッローロ     東京都足立区千住旭町3-13  3.53      40  ￥2,000～￥2,999\n",
       "4              ワインバル  80 梅島店     東京都足立区梅島1-12-6     -       1  ￥4,000～￥4,999"
      ]
     },
     "execution_count": 340,
     "metadata": {},
     "output_type": "execute_result"
    }
   ],
   "source": [
    "dfpz.head()"
   ]
  },
  {
   "cell_type": "code",
   "execution_count": 341,
   "metadata": {},
   "outputs": [],
   "source": [
    "dfpz.to_csv(\"Tokyo_pz.csv\", index=False, encoding=\"utf-8\")"
   ]
  },
  {
   "cell_type": "code",
   "execution_count": null,
   "metadata": {},
   "outputs": [],
   "source": []
  },
  {
   "cell_type": "code",
   "execution_count": null,
   "metadata": {},
   "outputs": [],
   "source": []
  },
  {
   "cell_type": "code",
   "execution_count": null,
   "metadata": {},
   "outputs": [],
   "source": []
  },
  {
   "cell_type": "code",
   "execution_count": null,
   "metadata": {},
   "outputs": [],
   "source": []
  },
  {
   "cell_type": "code",
   "execution_count": 29,
   "metadata": {
    "scrolled": false
   },
   "outputs": [
    {
     "name": "stdout",
     "output_type": "stream",
     "text": [
      "東京都千代田区三崎町2-19-4 MKビル　B1F\n",
      "None\n",
      "None\n"
     ]
    }
   ],
   "source": [
    "def main(driver, wait):\n",
    "    driver.get('https://tabelog.com/tokyo/C13101/rstLst/pizza/');\n",
    "    \n",
    "    #address = driver.find_element_by_id('tabs-panel-balloon-pref-area')\n",
    "    address = driver.find_elements_by_css_selector(\"#column-main > ul > li:nth-child(12) > div.list-rst__wrap.js-open-new-window > div.list-rst__body > div.list-rst__contents > div.list-rst__rst-data > div.list-rst__subdata > p\")\n",
    "    \n",
    "    address_data = []\n",
    "    for ad in address:\n",
    "        #ahref = ad.find_element_by_tag_name(\"p\")\n",
    "        #address_data[ahref.text] = [ahref.get_attribute(\"href\")]\n",
    "        address_data = address_data.append(ad.text)\n",
    "        print(ad.text)\n",
    "        print(address_data)\n",
    "    \n",
    "    #df = pd.DataFrame.from_dict(address_data)\n",
    "    return address_data\n",
    "\n",
    "driver = webdriver.Chrome()\n",
    "wait = WebDriverWait(driver, 10)\n",
    "try:\n",
    "    address_data = main(driver, wait)\n",
    "    #df.to_excel(\"area_links.xls\")\n",
    "finally:\n",
    "    driver.quit()\n",
    "    \n",
    "print(address_data)"
   ]
  },
  {
   "cell_type": "code",
   "execution_count": null,
   "metadata": {},
   "outputs": [],
   "source": []
  },
  {
   "cell_type": "markdown",
   "metadata": {},
   "source": [
    "# ここから慶應のサンプル\n",
    "## 価格.com アイテムのサンプル"
   ]
  },
  {
   "cell_type": "code",
   "execution_count": 20,
   "metadata": {},
   "outputs": [
    {
     "name": "stdout",
     "output_type": "stream",
     "text": [
      "{'Date': 'Sun, 20 May 2018 12:57:27 GMT', 'Content-Type': 'text/html; charset=shift_jis', 'Content-Length': '50031', 'Connection': 'keep-alive', 'Cache-Control': 'private', 'Content-Encoding': 'gzip', 'Vary': 'Accept-Encoding', 'X-FRAME-OPTIONS': 'SAMEORIGIN'}\n"
     ]
    }
   ],
   "source": [
    "import requests\n",
    "import bs4\n",
    "import pandas as pd\n",
    "import urllib\n",
    "\n",
    "#from bs4 import BeautifulSoup\n",
    "\n",
    "url_kakaku = \"http://kakaku.com/pc/note-pc/itemlist.aspx\"\n",
    "\n",
    "# ノートPC一覧ページをダウンロード\n",
    "resp = requests.get(url_kakaku)\n",
    "# サーバーからの応答には、通信に関する情報が「ヘッダ」として含まれている\n",
    "print(resp.headers)"
   ]
  },
  {
   "cell_type": "code",
   "execution_count": 21,
   "metadata": {},
   "outputs": [
    {
     "name": "stdout",
     "output_type": "stream",
     "text": [
      "[<p class=\"result\"><span>2402</span> 製品</p>]\n"
     ]
    }
   ],
   "source": [
    "# HTMLの内容を取得するには\".text\"とする。\n",
    "html = resp.text\n",
    "\n",
    "soup = bs4.BeautifulSoup(html, \"lxml\")\n",
    "\n",
    "#print(soup.find_all('span'))\n",
    "print(soup.find_all('p', class_=\"result\"))\n"
   ]
  },
  {
   "cell_type": "code",
   "execution_count": 22,
   "metadata": {},
   "outputs": [
    {
     "name": "stdout",
     "output_type": "stream",
     "text": [
      "<class 'bs4.element.ResultSet'>\n",
      "2402\n"
     ]
    }
   ],
   "source": [
    "part = soup.find_all('p', class_=\"result\")\n",
    "print(type(part))\n",
    "print(part[0].find('span').text)"
   ]
  },
  {
   "cell_type": "code",
   "execution_count": 23,
   "metadata": {},
   "outputs": [
    {
     "name": "stdout",
     "output_type": "stream",
     "text": [
      "<p class=\"result\"><span>2402</span> 製品</p>\n"
     ]
    }
   ],
   "source": [
    "print(part[0])"
   ]
  },
  {
   "cell_type": "code",
   "execution_count": 24,
   "metadata": {},
   "outputs": [],
   "source": [
    "item_name_tags = soup.find_all(\"td\", class_=\"ckitemLink\")"
   ]
  },
  {
   "cell_type": "code",
   "execution_count": 25,
   "metadata": {},
   "outputs": [
    {
     "name": "stdout",
     "output_type": "stream",
     "text": [
      "<td class=\"ckitemLink\"><a class=\"ckitanker\" href=\"http://kakaku.com/item/K0001030454/\"><span>NEC <span class=\"dir\">【直販モデル】</span>　</span>LAVIE Direct NS(A) 価格.com限定モデル NSLKB154NACZ1S</a></td>\n"
     ]
    }
   ],
   "source": [
    "print(item_name_tags[0])"
   ]
  },
  {
   "cell_type": "code",
   "execution_count": 26,
   "metadata": {},
   "outputs": [],
   "source": [
    "access_date = resp.headers[\"Date\"]\n",
    "link_itemname = []\n",
    "for tag in item_name_tags:\n",
    "    link = tag.find(\"a\")[\"href\"]\n",
    "    itemname = tag.find(\"a\").text\n",
    "    link_itemname.append([itemname, link, access_date])\n",
    "\n",
    "df = pd.DataFrame(link_itemname, columns=[\"name\", \"link\", \"last_accessed\"])"
   ]
  },
  {
   "cell_type": "code",
   "execution_count": 27,
   "metadata": {
    "scrolled": true
   },
   "outputs": [
    {
     "name": "stdout",
     "output_type": "stream",
     "text": [
      "                                                name  \\\n",
      "0  NEC 【直販モデル】　LAVIE Direct NS(A) 価格.com限定モデル NSL...   \n",
      "1  Dell 【直販モデル】　Inspiron 15 3000 スタンダード Core i3 6...   \n",
      "2  HP 【直販モデル】　Pavilion 15-cc100 価格.com限定 メモリ8GB&1...   \n",
      "3  Dell 【直販モデル】　Dell G3 15 プラチナ Core i7 8750H・8GB...   \n",
      "4  HP 【直販モデル】　HP x360 11-ab051TU 価格.com限定 メモリ4GB&...   \n",
      "\n",
      "                                  link                  last_accessed  \n",
      "0  http://kakaku.com/item/K0001030454/  Sun, 20 May 2018 12:57:27 GMT  \n",
      "1  http://kakaku.com/item/J0000024831/  Sun, 20 May 2018 12:57:27 GMT  \n",
      "2  http://kakaku.com/item/J0000026286/  Sun, 20 May 2018 12:57:27 GMT  \n",
      "3  http://kakaku.com/item/J0000027365/  Sun, 20 May 2018 12:57:27 GMT  \n",
      "4  http://kakaku.com/item/K0001028271/  Sun, 20 May 2018 12:57:27 GMT  \n"
     ]
    }
   ],
   "source": [
    "print(df.head())"
   ]
  },
  {
   "cell_type": "code",
   "execution_count": 28,
   "metadata": {},
   "outputs": [
    {
     "name": "stdout",
     "output_type": "stream",
     "text": [
      "/pc/note-pc/itemlist.aspx?pdf_pg=61\n"
     ]
    }
   ],
   "source": [
    "# 最大ページ数を知るプログラム\n",
    "\n",
    "li_end = soup.find(\"li\", class_=\"end\")\n",
    "a_tag = li_end.find(\"a\")[\"href\"]\n",
    "print(a_tag)"
   ]
  },
  {
   "cell_type": "code",
   "execution_count": 29,
   "metadata": {},
   "outputs": [
    {
     "name": "stdout",
     "output_type": "stream",
     "text": [
      "ParseResult(scheme='', netloc='', path='/pc/note-pc/itemlist.aspx', params='', query='pdf_pg=61', fragment='')\n"
     ]
    }
   ],
   "source": [
    "# (1-1) リンクURLを分析して\n",
    "parsed = urllib.parse.urlparse(a_tag)\n",
    "print(parsed)"
   ]
  },
  {
   "cell_type": "code",
   "execution_count": 30,
   "metadata": {},
   "outputs": [
    {
     "name": "stdout",
     "output_type": "stream",
     "text": [
      "pdf_pg=61\n"
     ]
    }
   ],
   "source": [
    "# (1-2) CGIパラメータだけ取り出す\n",
    "qs = parsed.query\n",
    "print(qs)"
   ]
  },
  {
   "cell_type": "code",
   "execution_count": 31,
   "metadata": {},
   "outputs": [
    {
     "name": "stdout",
     "output_type": "stream",
     "text": [
      "{'pdf_pg': ['61']}\n"
     ]
    }
   ],
   "source": [
    "# (2-1) CGIパラメータの構造を分析して\n",
    "queries = urllib.parse.parse_qs(qs)\n",
    "print(queries)"
   ]
  },
  {
   "cell_type": "code",
   "execution_count": 32,
   "metadata": {},
   "outputs": [
    {
     "name": "stdout",
     "output_type": "stream",
     "text": [
      "ページ総数は 61 です\n"
     ]
    }
   ],
   "source": [
    "# (2-2) CGIパラメータ\"pdf_pg\"の値（リスト）を得る\n",
    "tot_pages = queries[\"pdf_pg\"][0]\n",
    "print(\"ページ総数は\", tot_pages, \"です\")"
   ]
  },
  {
   "cell_type": "markdown",
   "metadata": {},
   "source": [
    "### ウェブページ全体に渡ってスクレイピングを実行\n",
    "kakaku_com_itemlist_robust"
   ]
  },
  {
   "cell_type": "code",
   "execution_count": 15,
   "metadata": {},
   "outputs": [],
   "source": [
    "# まずは１ページ目のみ\n",
    "\n",
    "base_url = \"http://kakaku.com/pc/note-pc/itemlist.aspx\"\n",
    "\n",
    "def scrape_list_page(url):\n",
    "    resp = requests.get(url)\n",
    "    html = resp.text\n",
    "    soup = bs4.BeautifulSoup(html, \"lxml\")\n",
    "    item_name_tags = soup.find_all(\"td\", class_=\"ckitemLink\")\n",
    "    access_date = resp.headers[\"Date\"]\n",
    "    link_itemname = []\n",
    "    for tag in item_name_tags:\n",
    "        link = tag.find(\"a\")[\"href\"]\n",
    "        itemname = tag.find(\"a\").text\n",
    "        link_itemname.append([itemname, link, access_date])\n",
    "\n",
    "    df = pd.DataFrame(link_itemname, columns=[\"name\", \"link\", \"last_accessed\"])\n",
    "    return(df)\n",
    "    \n",
    "def scrape_main(page):\n",
    "    url = base_url + \"?pdf_pg=%d\" % page\n",
    "    df = scrape_list_page(url)\n",
    "    #time.sleep(3)\n",
    "    return(df)"
   ]
  },
  {
   "cell_type": "code",
   "execution_count": 16,
   "metadata": {},
   "outputs": [
    {
     "ename": "NameError",
     "evalue": "name 'df' is not defined",
     "output_type": "error",
     "traceback": [
      "\u001b[1;31m---------------------------------------------------------------------------\u001b[0m",
      "\u001b[1;31mNameError\u001b[0m                                 Traceback (most recent call last)",
      "\u001b[1;32m<ipython-input-16-2a851eda2e88>\u001b[0m in \u001b[0;36m<module>\u001b[1;34m()\u001b[0m\n\u001b[1;32m----> 1\u001b[1;33m \u001b[0mprint\u001b[0m\u001b[1;33m(\u001b[0m\u001b[0mdf\u001b[0m\u001b[1;33m)\u001b[0m\u001b[1;33m\u001b[0m\u001b[0m\n\u001b[0m",
      "\u001b[1;31mNameError\u001b[0m: name 'df' is not defined"
     ]
    }
   ],
   "source": [
    "print(df)"
   ]
  },
  {
   "cell_type": "code",
   "execution_count": 17,
   "metadata": {
    "scrolled": true
   },
   "outputs": [
    {
     "name": "stdout",
     "output_type": "stream",
     "text": [
      "ページ 1 をスクレイプしました\n",
      "ページ 2 をスクレイプしました\n",
      "ページ 3 をスクレイプしました\n",
      "ページ 4 をスクレイプしました\n",
      "ページ 5 をスクレイプしました\n",
      "ページ 6 をスクレイプしました\n",
      "ページ 7 をスクレイプしました\n",
      "ページ 8 をスクレイプしました\n",
      "ページ 9 をスクレイプしました\n",
      "ページ 10 をスクレイプしました\n",
      "ページ 11 をスクレイプしました\n",
      "ページ 12 をスクレイプしました\n",
      "ページ 13 をスクレイプしました\n",
      "ページ 14 をスクレイプしました\n",
      "ページ 15 をスクレイプしました\n",
      "ページ 16 をスクレイプしました\n",
      "ページ 17 をスクレイプしました\n",
      "ページ 18 をスクレイプしました\n",
      "ページ 19 をスクレイプしました\n",
      "ページ 20 をスクレイプしました\n",
      "ページ 21 をスクレイプしました\n",
      "ページ 22 をスクレイプしました\n",
      "ページ 23 をスクレイプしました\n",
      "ページ 24 をスクレイプしました\n",
      "ページ 25 をスクレイプしました\n",
      "ページ 26 をスクレイプしました\n",
      "ページ 27 をスクレイプしました\n",
      "ページ 28 をスクレイプしました\n",
      "ページ 29 をスクレイプしました\n",
      "ページ 30 をスクレイプしました\n",
      "ページ 31 をスクレイプしました\n",
      "ページ 32 をスクレイプしました\n",
      "ページ 33 をスクレイプしました\n",
      "ページ 34 をスクレイプしました\n",
      "ページ 35 をスクレイプしました\n",
      "ページ 36 をスクレイプしました\n",
      "ページ 37 をスクレイプしました\n",
      "ページ 38 をスクレイプしました\n",
      "ページ 39 をスクレイプしました\n",
      "ページ 40 をスクレイプしました\n",
      "ページ 41 をスクレイプしました\n",
      "ページ 42 をスクレイプしました\n",
      "ページ 43 をスクレイプしました\n",
      "ページ 44 をスクレイプしました\n",
      "ページ 45 をスクレイプしました\n",
      "ページ 46 をスクレイプしました\n",
      "ページ 47 をスクレイプしました\n",
      "ページ 48 をスクレイプしました\n",
      "ページ 49 をスクレイプしました\n",
      "ページ 50 をスクレイプしました\n"
     ]
    }
   ],
   "source": [
    "dfs = []\n",
    "max_attempts = 10\n",
    "total_pages = 50\n",
    "page_numbers = range(1,int(total_pages)+1)\n",
    "\n",
    "for page in page_numbers:\n",
    "    # 各ページについて最大試行回数を10回に設定\n",
    "    for attempt in range(max_attempts):\n",
    "        try:\n",
    "            df = scrape_main(page)\n",
    "            dfs.append(df)\n",
    "            print(\"ページ\",page,\"をスクレイプしました\")\n",
    "        except requests.exceptions.Timeout:\n",
    "            print(\"接続タイムアウト。2分後に再試行します...\")\n",
    "            time.sleep(120)\n",
    "            continue # 最も内側の forに戻る\n",
    "        except requests.exceptions.RequestException as e:\n",
    "            print(\"%s. 5分後に再試行します...\" % e.message)\n",
    "            time.sleep(300)\n",
    "            continue # 最も内側の forに戻る\n",
    "        #　エラー無しの場合attempループを脱出して、次のページのループに戻る\n",
    "        break\n",
    "\n",
    "linkdata = pd.concat(dfs, ignore_index=True)\n",
    "#linkdata.to_excel(\"itemlist_robust.xls\")"
   ]
  },
  {
   "cell_type": "code",
   "execution_count": 18,
   "metadata": {},
   "outputs": [
    {
     "name": "stdout",
     "output_type": "stream",
     "text": [
      "                                                name  \\\n",
      "0  NEC 【直販モデル】　LAVIE Direct NS(A) 価格.com限定モデル NSL...   \n",
      "1  Dell 【直販モデル】　Inspiron 15 3000 スタンダード Core i3 6...   \n",
      "2  HP 【直販モデル】　Pavilion 15-cc100 価格.com限定 メモリ8GB&1...   \n",
      "3  Dell 【直販モデル】　Dell G3 15 プラチナ Core i7 8750H・8GB...   \n",
      "4  HP 【直販モデル】　HP x360 11-ab051TU 価格.com限定 メモリ4GB&...   \n",
      "\n",
      "                                  link                  last_accessed  \n",
      "0  http://kakaku.com/item/K0001030454/  Sun, 20 May 2018 16:19:05 GMT  \n",
      "1  http://kakaku.com/item/J0000024831/  Sun, 20 May 2018 16:19:05 GMT  \n",
      "2  http://kakaku.com/item/J0000026286/  Sun, 20 May 2018 16:19:05 GMT  \n",
      "3  http://kakaku.com/item/J0000027365/  Sun, 20 May 2018 16:19:05 GMT  \n",
      "4  http://kakaku.com/item/K0001028271/  Sun, 20 May 2018 16:19:05 GMT  \n"
     ]
    }
   ],
   "source": [
    "print(linkdata.head())"
   ]
  },
  {
   "cell_type": "code",
   "execution_count": 19,
   "metadata": {
    "scrolled": true
   },
   "outputs": [
    {
     "data": {
      "text/plain": [
       "2000"
      ]
     },
     "execution_count": 19,
     "metadata": {},
     "output_type": "execute_result"
    }
   ],
   "source": [
    "len(linkdata)"
   ]
  },
  {
   "cell_type": "markdown",
   "metadata": {},
   "source": [
    "## 食べログを使ったサンプル\n",
    "tabelog_tamachi"
   ]
  },
  {
   "cell_type": "code",
   "execution_count": 14,
   "metadata": {
    "scrolled": false
   },
   "outputs": [
    {
     "name": "stdout",
     "output_type": "stream",
     "text": [
      "レストラン 2811 件\n",
      "Empty DataFrame\n",
      "Columns: []\n",
      "Index: []\n",
      "Empty DataFrame\n",
      "Columns: []\n",
      "Index: []\n",
      "Empty DataFrame\n",
      "Columns: []\n",
      "Index: []\n"
     ]
    }
   ],
   "source": [
    "url = \"https://tabelog.com/tokyo/A1314/\"\n",
    "\n",
    "def scrape_rst_url(driver, wait):\n",
    "    # タグ属性classの内容がスペースで区切られた「合成クラス(compound)」の場合、\n",
    "    # find_elements_by_class_name()は使えない。回避策としてCSS Selectorを使う\n",
    "    # CSS Selectorの値はChromeの検証ツールで「Copy->Copy Selector」で取得する。\n",
    "    ###ここがよくわからない\n",
    "    ahrefs= driver.find_elements_by_css_selector('#column-main > ul > li > div.list-rst__header > div.list-rst__rst-name-wrap > p.list-rst__rst-name > a')\n",
    "    dic = {}\n",
    "    for ahref in ahrefs:\n",
    "        dic[ahref.text] = [ahref.get_attribute(\"href\")]\n",
    "    df = pd.DataFrame.from_dict(dic, orient=\"index\")\n",
    "    print(df)\n",
    "    return(df)\n",
    "\n",
    "def main(driver, wait, numpages=2):\n",
    "    driver.get(url)\n",
    "\n",
    "    num_rsts = driver.find_element_by_class_name('list-condition__count')\n",
    "    print(\"レストラン\", num_rsts.text, \"件\")\n",
    "    \n",
    "    # 口コミタブをクリックして口コミが多い順にソート\n",
    "    tab_review = driver.find_element_by_link_text(\"口コミ数\")\n",
    "    tab_review.click()\n",
    "    \n",
    "    dfs = []\n",
    "    np = 0\n",
    "    while True:\n",
    "        df = scrape_rst_url(driver, wait)\n",
    "        dfs.append(df)\n",
    "        try:\n",
    "            # 次の20件がクリックできなくなったら終了\n",
    "            next20 = driver.find_element_by_link_text('次の20件')\n",
    "            np += 1\n",
    "            time.sleep(10)\n",
    "        except NoSuchElementException:\n",
    "            break\n",
    "        \n",
    "        # それ以外の場合はレストランURLをスクレイプする\n",
    "        # next20.click()\n",
    "        # 上はご自宅や研究室でおためしください。。\n",
    "        if np > numpages:\n",
    "            break\n",
    "        \n",
    "    df_all = pd.concat(dfs)\n",
    "    \n",
    "    return df_all\n",
    "\n",
    "driver = webdriver.Chrome()\n",
    "wait = WebDriverWait(driver, 10)\n",
    "try:\n",
    "     df = main(driver, wait)\n",
    "     time.sleep(10)\n",
    "     df.to_excel(\"area_restaulants_links.xls\")\n",
    "    \n",
    "finally:\n",
    "    driver.quit()"
   ]
  },
  {
   "cell_type": "code",
   "execution_count": 11,
   "metadata": {},
   "outputs": [],
   "source": [
    "def main(driver, wait):\n",
    "    driver.get('https://tabelog.com/tokyo/');\n",
    "    \n",
    "    # 左側のペインがロードされて可視化されるまで待つ。\n",
    "    wait.until(EC.visibility_of_element_located((By.ID, 'js-leftnavi-area-trigger')))\n",
    "    \n",
    "    # マウスを左コラムの「エリア」に移動してクリックする動作をシミュレート\n",
    "    # この動作を行わないと、ポップアップ表示が正しく行われず、エラーが発生する。\n",
    "    a_pref = driver.find_element_by_id('js-leftnavi-area-trigger')\n",
    "    hover = ActionChains(driver).move_to_element(a_pref).click()\n",
    "    hover.perform()\n",
    "    \n",
    "    # どうやら、エリア名の先頭の幾つかは非同期通信のラグがあり、\n",
    "    # たまに表示し損ねることがある。そこで、先頭の\n",
    "    # 「銀座・新橋・有楽町」が表示されるまで待機する\n",
    "    wait.until(EC.visibility_of_element_located((By.XPATH, '//*[@id=\"tabs-panel-balloon-pref-area\"]/div/ul[1]/li[1]/a')))\n",
    "    \n",
    "    \n",
    "    # ポップアップするエリア表示と対応するリンクを取得する。\n",
    "    pref_area = driver.find_element_by_id('tabs-panel-balloon-pref-area')\n",
    "    pref_area_lis = pref_area.find_elements_by_class_name(\"list-balloon__list-item\")\n",
    "    \n",
    "    area_data = {}\n",
    "    for pref_area_li in pref_area_lis:\n",
    "        ahref = pref_area_li.find_element_by_tag_name(\"a\")\n",
    "        area_data[ahref.text] = [ahref.get_attribute(\"href\")]\n",
    "    \n",
    "    df = pd.DataFrame.from_dict(area_data, orient=\"index\")\n",
    "    return df\n",
    "\n",
    "#\n",
    "# ここからプログラム開始\n",
    "#\n",
    "driver = webdriver.Chrome()\n",
    "wait = WebDriverWait(driver, 10)\n",
    "try:\n",
    "    df = main(driver, wait)\n",
    "    df.to_excel(\"area_links.xls\")\n",
    "finally:\n",
    "    driver.quit()"
   ]
  }
 ],
 "metadata": {
  "kernelspec": {
   "display_name": "Python 3",
   "language": "python",
   "name": "python3"
  },
  "language_info": {
   "codemirror_mode": {
    "name": "ipython",
    "version": 3
   },
   "file_extension": ".py",
   "mimetype": "text/x-python",
   "name": "python",
   "nbconvert_exporter": "python",
   "pygments_lexer": "ipython3",
   "version": "3.6.4"
  }
 },
 "nbformat": 4,
 "nbformat_minor": 2
}
